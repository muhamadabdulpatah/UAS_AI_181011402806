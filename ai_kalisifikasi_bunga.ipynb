import pandas as pd #Python Data Analysis Library 
import numpy as np #Python Scientific Library (Umumnya membantu 
#dalam urusan list)

#Selective import modul-modul Scikit Learn 
#(Scikit Learn memiliki banyak modul machine learning)
from sklearn import linear_model
from sklearn.model_selection import train_test_split
from sklearn.metrics import mean_squared_error 
url = "https://archive.ics.uci.edu/ml/machine-learning-databases/iris/iris.data"
new_names = ['sepal_length','sepal_width','petal_length','petal_width','iris_class']
dataset = pd.read_csv(url, names=new_names, skiprows=0, delimiter=',')
dataset.info()
dataset.head(6)
 #change head with sample and tail.
 dataset.groupby('iris_class').count()
 y = dataset['iris_class']
x = dataset.drop(['iris_class'], axis=1)

print ("dataset : ",dataset.shape)
print ("x : ",x.shape)
print ("y : ",y.shape)
#one hot encoding
y=pd.get_dummies(y)
y.sample(7)
# Generate Training and Validation Sets
x_train, x_test, y_train, y_test = train_test_split(x,y, test_size=0.3) #0.3 data sebagai data test

#converting to float 32bit
x_train = np.array(x_train).astype(np.float32)
x_test  = np.array(x_test).astype(np.float32)
y_train = np.array(y_train).astype(np.float32)
y_test  = np.array(y_test).astype(np.float32)

#print data split for validation
print(x_train.shape, y_train.shape)
print(x_test.shape, y_test.shape)
from sklearn.decomposition import PCA
pca = PCA(n_components=4)
pca.fit(x)
print(pca.explained_variance_ratio_)
print(pca.singular_values_)
print(pca.components_)
